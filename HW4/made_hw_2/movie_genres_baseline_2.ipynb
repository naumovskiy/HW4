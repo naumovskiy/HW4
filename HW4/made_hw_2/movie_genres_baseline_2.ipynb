{
  "nbformat": 4,
  "nbformat_minor": 0,
  "metadata": {
    "kernelspec": {
      "display_name": "Python 3",
      "language": "python",
      "name": "python3"
    },
    "language_info": {
      "codemirror_mode": {
        "name": "ipython",
        "version": 3
      },
      "file_extension": ".py",
      "mimetype": "text/x-python",
      "name": "python",
      "nbconvert_exporter": "python",
      "pygments_lexer": "ipython3",
      "version": "3.6.8"
    },
    "colab": {
      "name": "movie_genres_baseline_2.ipynb",
      "provenance": []
    }
  },
  "cells": [
    {
      "cell_type": "markdown",
      "metadata": {
        "id": "2PaADhCviBv-"
      },
      "source": [
        "# Movie genres "
      ]
    },
    {
      "cell_type": "code",
      "metadata": {
        "id": "Gu6kZgspiBv-"
      },
      "source": [
        "import pandas as pd\n",
        "import numpy as np\n",
        "import warnings\n",
        "warnings.filterwarnings('ignore')\n",
        "from sklearn.model_selection import train_test_split\n",
        "from sklearn.feature_extraction.text import TfidfVectorizer\n",
        "from sklearn.preprocessing import MultiLabelBinarizer\n",
        "from sklearn.linear_model import LogisticRegression\n",
        "from sklearn.multiclass import OneVsRestClassifier\n",
        "import joblib"
      ],
      "execution_count": 1,
      "outputs": []
    },
    {
      "cell_type": "code",
      "metadata": {
        "id": "kWTZv-dBiBv_"
      },
      "source": [
        "train = pd.read_csv('https://raw.githubusercontent.com/naumovskiy/HW4/main/HW4/made_hw_2/train.csv')\n",
        "test = pd.read_csv('https://raw.githubusercontent.com/naumovskiy/HW4/main/HW4/made_hw_2/test.csv')\n",
        "treshold_df = pd.read_csv('https://raw.githubusercontent.com/naumovskiy/HW4/main/HW4/made_hw_2/treshold_df.csv',index_col='index')"
      ],
      "execution_count": 2,
      "outputs": []
    },
    {
      "cell_type": "code",
      "metadata": {
        "id": "iJyyyT-aiBv_"
      },
      "source": [
        "mlb = MultiLabelBinarizer()\n",
        "train.genres = train.genres.apply(eval)\n",
        "y = pd.DataFrame(mlb.fit_transform(train.genres), columns=mlb.classes_)"
      ],
      "execution_count": 3,
      "outputs": []
    },
    {
      "cell_type": "code",
      "metadata": {
        "id": "l3RhNn-liBwA"
      },
      "source": [
        "vectorizer = TfidfVectorizer(min_df=5)\n",
        "vectorizer.fit(train.dialogue.append(test.dialogue))\n",
        "\n",
        "X_train = vectorizer.transform(train.dialogue)\n",
        "y_train = y.copy()\n",
        "ovrc = OneVsRestClassifier(LogisticRegression(C=10), n_jobs=-1)\n",
        "ovrc.fit(X_train, y_train);"
      ],
      "execution_count": 4,
      "outputs": []
    },
    {
      "cell_type": "markdown",
      "metadata": {
        "id": "e5ei64qoPtki"
      },
      "source": [
        "### TO APP"
      ]
    },
    {
      "cell_type": "code",
      "metadata": {
        "colab": {
          "base_uri": "https://localhost:8080/"
        },
        "id": "TguKkqWKLt0F",
        "outputId": "735dd103-2378-44ec-b70b-be6e2b0c4a12"
      },
      "source": [
        "from google.colab import drive\r\n",
        "drive.mount('/content/drive')"
      ],
      "execution_count": 6,
      "outputs": [
        {
          "output_type": "stream",
          "text": [
            "Mounted at /content/drive\n"
          ],
          "name": "stdout"
        }
      ]
    },
    {
      "cell_type": "code",
      "metadata": {
        "id": "3E_lUeQmPv8r"
      },
      "source": [
        "with open('/content/drive/My Drive/data/movie_vectorizer_dump.pkl', 'wb') as output_file:\r\n",
        "    joblib.dump(vectorizer, output_file)\r\n",
        "\r\n",
        "with open('/content/drive/My Drive/data/movie_model_dump.pkl', 'wb') as output_file:\r\n",
        "    joblib.dump(ovrc, output_file)\r\n",
        "\r\n",
        "with open('/content/drive/My Drive/data/movie_mlb_dump.pkl', 'wb') as output_file:\r\n",
        "    joblib.dump(mlb, output_file)    \r\n",
        "\r\n",
        "with open('/content/drive/My Drive/data/movie_treshold_df_dump.pkl', 'wb') as output_file:\r\n",
        "    joblib.dump(treshold_df, output_file)      "
      ],
      "execution_count": 7,
      "outputs": []
    },
    {
      "cell_type": "markdown",
      "metadata": {
        "id": "J_qMBsTaPSXd"
      },
      "source": [
        "### IN APP"
      ]
    },
    {
      "cell_type": "code",
      "metadata": {
        "id": "qHMglT4XkwnQ"
      },
      "source": [
        "text_ = \"war and world\""
      ],
      "execution_count": 8,
      "outputs": []
    },
    {
      "cell_type": "code",
      "metadata": {
        "colab": {
          "base_uri": "https://localhost:8080/"
        },
        "id": "1-4tU-zrkvgE",
        "outputId": "bbf7a82a-918d-4e03-ba07-17e795248421"
      },
      "source": [
        "preds = ovrc.predict_proba(vectorizer.transform([text_]))\r\n",
        "preds"
      ],
      "execution_count": 9,
      "outputs": [
        {
          "output_type": "execute_result",
          "data": {
            "text/plain": [
              "array([[9.57921177e-01, 6.71282263e-01, 4.75196948e-03, 2.65343657e-01,\n",
              "        2.81236025e-01, 8.59372958e-04, 3.04348611e-01, 8.02318371e-03,\n",
              "        1.31308581e-02, 6.51042865e-03, 1.53149129e-04, 2.51508517e-04,\n",
              "        1.38098482e-03, 3.24386400e-02, 2.08348723e-02, 2.19759532e-01,\n",
              "        9.57784751e-04, 2.98155998e-04, 3.04966941e-01, 8.08373619e-04]])"
            ]
          },
          "metadata": {
            "tags": []
          },
          "execution_count": 9
        }
      ]
    },
    {
      "cell_type": "code",
      "metadata": {
        "id": "Nn34H5FYlMIf"
      },
      "source": [
        "for n, yi in enumerate(['action', 'adventure', 'animation', 'biography', 'comedy', 'crime',\r\n",
        "                        'drama', 'family', 'fantasy', 'history', 'horror', 'music', 'musical',\r\n",
        "                        'mystery', 'romance', 'sci-fi', 'sport', 'thriller', 'war', 'western']):\r\n",
        "    preds[:, n] = preds[:, n] > treshold_df.loc[yi, 'best_treshold']"
      ],
      "execution_count": 10,
      "outputs": []
    },
    {
      "cell_type": "code",
      "metadata": {
        "id": "q8wtOM9xmG1Q"
      },
      "source": [
        "if preds.sum() == 0:\r\n",
        "  preds[6] = 1"
      ],
      "execution_count": 11,
      "outputs": []
    },
    {
      "cell_type": "code",
      "metadata": {
        "colab": {
          "base_uri": "https://localhost:8080/",
          "height": 35
        },
        "id": "3LAaUeSzmd4U",
        "outputId": "3eeddad2-a134-4336-d26f-ddb0429ad24d"
      },
      "source": [
        "' '.join(mlb.inverse_transform(preds)[0])"
      ],
      "execution_count": 12,
      "outputs": [
        {
          "output_type": "execute_result",
          "data": {
            "application/vnd.google.colaboratory.intrinsic+json": {
              "type": "string"
            },
            "text/plain": [
              "'action adventure biography war'"
            ]
          },
          "metadata": {
            "tags": []
          },
          "execution_count": 12
        }
      ]
    },
    {
      "cell_type": "code",
      "metadata": {
        "colab": {
          "base_uri": "https://localhost:8080/"
        },
        "id": "jFfdvm5Im1Z4",
        "outputId": "62e2f3d4-303d-49f8-a93e-d4d90c16c8b7"
      },
      "source": [
        "mlb.inverse_transform(preds)[0]"
      ],
      "execution_count": 13,
      "outputs": [
        {
          "output_type": "execute_result",
          "data": {
            "text/plain": [
              "('action', 'adventure', 'biography', 'war')"
            ]
          },
          "metadata": {
            "tags": []
          },
          "execution_count": 13
        }
      ]
    }
  ]
}